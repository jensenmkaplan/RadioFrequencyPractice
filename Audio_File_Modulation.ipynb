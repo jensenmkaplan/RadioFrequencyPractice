{
 "cells": [
  {
   "cell_type": "markdown",
   "id": "74953f89",
   "metadata": {},
   "source": [
    "# AM Radio Modulation and Demodulation Visualization\n",
    "\n",
    "This notebook demonstrates amplitude modulation (AM) and demodulation of an audio signal, with interactive visualizations of both time and frequency domains.\n",
    "\n",
    "## Features:\n",
    "- Load and process audio files\n",
    "- Generate carrier wave at 100 kHz\n",
    "- Apply AM modulation with adjustable modulation index\n",
    "- Demodulate using envelope detection (Hilbert transform)\n",
    "- Interactive time domain visualizations\n",
    "- Frequency domain analysis\n",
    "- Audio playback of original and modulated signals"
   ]
  },
  {
   "cell_type": "code",
   "execution_count": 1,
   "id": "3a63381a",
   "metadata": {},
   "outputs": [
    {
     "name": "stderr",
     "output_type": "stream",
     "text": [
      "/Users/jensenkaplan/Desktop/jensenmkaplan/RadioFrequencyPractice/rfenv/lib/python3.12/site-packages/pydub/utils.py:170: RuntimeWarning: Couldn't find ffmpeg or avconv - defaulting to ffmpeg, but may not work\n",
      "  warn(\"Couldn't find ffmpeg or avconv - defaulting to ffmpeg, but may not work\", RuntimeWarning)\n"
     ]
    }
   ],
   "source": [
    "import numpy as np\n",
    "import matplotlib.pyplot as plt\n",
    "from scipy.io import wavfile\n",
    "import sounddevice as sd\n",
    "from scipy.fft import fft, fftfreq\n",
    "from scipy.signal import hilbert\n",
    "from pydub import AudioSegment\n",
    "from ipywidgets import interact, FloatSlider\n",
    "\n",
    "# Enable inline plotting\n",
    "%matplotlib inline"
   ]
  },
  {
   "cell_type": "code",
   "execution_count": 2,
   "id": "87293fc9",
   "metadata": {},
   "outputs": [],
   "source": [
    "def load_audio_file(file_path, duration_seconds=5):\n",
    "    \"\"\"Load and normalize a WAV audio file.\"\"\"\n",
    "    # Load WAV file using scipy\n",
    "    fs, samples = wavfile.read(file_path)\n",
    "    \n",
    "    # Convert to mono if stereo\n",
    "    if len(samples.shape) > 1:\n",
    "        samples = samples.mean(axis=1)\n",
    "    \n",
    "    # Calculate number of samples for desired duration\n",
    "    samples_to_keep = int(duration_seconds * fs)\n",
    "    \n",
    "    # Take only the first duration_seconds worth of samples\n",
    "    samples = samples[:samples_to_keep]\n",
    "    \n",
    "    # Convert to float32 and normalize\n",
    "    samples = samples.astype(np.float32)\n",
    "    samples = samples / np.max(np.abs(samples))\n",
    "    \n",
    "    return fs, samples\n",
    "\n",
    "def create_carrier(fs, duration, fc, message_length):\n",
    "    \"\"\"Create a carrier wave with exact same length as message signal.\"\"\"\n",
    "    t = np.linspace(0, duration, message_length, endpoint=False)\n",
    "    carrier = np.sin(2 * np.pi * fc * t)\n",
    "    return t, carrier\n",
    "\n",
    "def amplitude_modulate(message, carrier, m):\n",
    "    \"\"\"Apply amplitude modulation to the message signal with improved quality.\"\"\"\n",
    "    # Create the modulated signal\n",
    "    modulated = (1 + m * message) * carrier\n",
    "    \n",
    "    # Simulate demodulation (envelope detection)\n",
    "    # Use Hilbert transform to get the envelope\n",
    "    analytic_signal = np.abs(hilbert(modulated))\n",
    "    \n",
    "    # Normalize to prevent clipping\n",
    "    return analytic_signal / np.max(np.abs(analytic_signal))\n",
    "\n",
    "def play_audio(signal, fs):\n",
    "    \"\"\"Play an audio signal using sounddevice.\"\"\"\n",
    "    sd.play(signal, fs)\n",
    "    sd.wait()"
   ]
  },
  {
   "cell_type": "code",
   "execution_count": 3,
   "id": "b27ff224",
   "metadata": {},
   "outputs": [],
   "source": [
    "# Audio parameters\n",
    "fs = 44100  # Standard audio sampling rate\n",
    "fc = 100000  # 100 kHz carrier (simulating radio-like behavior)\n",
    "\n",
    "# Modulation parameters\n",
    "modulation_indices = [1.0, 3.0]  # Standard modulation index for AM radio, m = 1, and then an example of overmodulation m=3\n",
    "\n",
    "# Load audio file (first 5 seconds only)\n",
    "file_path = \"Gabenyeh's Lullaby.wav\"  # Replace with your WAV file path\n",
    "fs, message = load_audio_file(file_path, duration_seconds=5)\n",
    "\n",
    "# Create carrier wave with exact same length as message\n",
    "duration = len(message) / fs\n",
    "t, carrier = create_carrier(fs, duration, fc, len(message))\n",
    "\n",
    "# Generate AM signals\n",
    "am_signals = []\n",
    "for m in modulation_indices:\n",
    "    am_signal = amplitude_modulate(message, carrier, m)\n",
    "    am_signals.append(am_signal)\n",
    "\n",
    "# Normalize signals for audio playback\n",
    "message = message / np.max(np.abs(message)) * 0.99\n",
    "for i in range(len(am_signals)):\n",
    "    am_signals[i] = am_signals[i] / np.max(np.abs(am_signals[i])) * 0.99"
   ]
  },
  {
   "cell_type": "code",
   "execution_count": 4,
   "id": "1c325308",
   "metadata": {},
   "outputs": [],
   "source": [
    "def plot_time_domain(start_time=0, duration=0.5):\n",
    "    \"\"\"Plot time domain signals for the specified time window.\"\"\"\n",
    "    start_idx = int(start_time * fs)\n",
    "    end_idx = int((start_time + duration) * fs)\n",
    "    \n",
    "    # Create figure for main plots\n",
    "    total_subplots = 2 + len(modulation_indices) + 3  # Message, Carrier, AM signals, Hilbert components, Envelope, Demodulated\n",
    "    fig, axes = plt.subplots(total_subplots, 1, figsize=(12, 3*total_subplots))\n",
    "    fig.subplots_adjust(hspace=0.4)\n",
    "    \n",
    "    # Plot message signal\n",
    "    axes[0].plot(t[start_idx:end_idx], message[start_idx:end_idx])\n",
    "    axes[0].set_title(f'Message Signal (Audio) - {start_time:.1f}s to {start_time+duration:.1f}s')\n",
    "    axes[0].set_xlabel('Time (s)')\n",
    "    axes[0].set_ylabel('Amplitude')\n",
    "    axes[0].grid(True)\n",
    "    \n",
    "    # Plot carrier wave\n",
    "    axes[1].plot(t[start_idx:end_idx], carrier[start_idx:end_idx])\n",
    "    axes[1].set_title(f'Carrier Signal ({fc/1000:.1f} kHz) - {start_time:.1f}s to {start_time+duration:.1f}s')\n",
    "    axes[1].set_xlabel('Time (s)')\n",
    "    axes[1].set_ylabel('Amplitude')\n",
    "    axes[1].grid(True)\n",
    "    \n",
    "    # Plot AM signals with different modulation indices\n",
    "    for i, (am_signal, m) in enumerate(zip(am_signals, modulation_indices)):\n",
    "        axes[2+i].plot(t[start_idx:end_idx], am_signal[start_idx:end_idx], label=f'AM Signal (m={m:.1f})')\n",
    "        envelope = 1 + m * message\n",
    "        axes[2+i].plot(t[start_idx:end_idx], envelope[start_idx:end_idx], 'r--', label='Envelope')\n",
    "        axes[2+i].plot(t[start_idx:end_idx], -envelope[start_idx:end_idx], 'r--')\n",
    "        axes[2+i].set_title(f'AM Signal with Modulation Index m={m:.1f} - {start_time:.1f}s to {start_time+duration:.1f}s')\n",
    "        axes[2+i].set_xlabel('Time (s)')\n",
    "        axes[2+i].set_ylabel('Amplitude')\n",
    "        axes[2+i].legend()\n",
    "        axes[2+i].grid(True)\n",
    "    \n",
    "    # Plot Hilbert transform components\n",
    "    m = modulation_indices[0]  # Use first modulation index\n",
    "    modulated = (1 + m * message) * carrier\n",
    "    analytic_signal = hilbert(modulated)\n",
    "    \n",
    "    # Calculate smaller time window for Hilbert components (1/100th of original)\n",
    "    hilbert_samples = int(duration * fs) // 100\n",
    "    hilbert_end_idx = min(start_idx + hilbert_samples, end_idx)\n",
    "    hilbert_duration = (hilbert_end_idx - start_idx) / fs\n",
    "    \n",
    "    axes[-3].plot(t[start_idx:hilbert_end_idx], np.real(analytic_signal[start_idx:hilbert_end_idx]), 'b-', label='Real Part')\n",
    "    axes[-3].plot(t[start_idx:hilbert_end_idx], np.imag(analytic_signal[start_idx:hilbert_end_idx]), 'g-', label='Imaginary Part')\n",
    "    axes[-3].set_title(f'Hilbert Transform Components - {start_time:.3f}s to {start_time+hilbert_duration:.3f}s')\n",
    "    axes[-3].set_xlabel('Time (s)')\n",
    "    axes[-3].set_ylabel('Amplitude')\n",
    "    axes[-3].legend()\n",
    "    axes[-3].grid(True)\n",
    "    \n",
    "    # Plot magnitude of analytic signal vs true envelope\n",
    "    demodulated = np.abs(analytic_signal)\n",
    "    envelope = 1 + m * message\n",
    "    axes[-2].plot(t[start_idx:end_idx], demodulated[start_idx:end_idx], 'g-', label='|Analytic Signal|')\n",
    "    axes[-2].plot(t[start_idx:end_idx], envelope[start_idx:end_idx], 'r--', label='True Envelope')\n",
    "    axes[-2].set_title('Magnitude of Analytic Signal vs True Envelope')\n",
    "    axes[-2].set_xlabel('Time (s)')\n",
    "    axes[-2].set_ylabel('Amplitude')\n",
    "    axes[-2].legend()\n",
    "    axes[-2].grid(True)\n",
    "    \n",
    "    # Plot demodulated vs original\n",
    "    axes[-1].plot(t[start_idx:end_idx], demodulated[start_idx:end_idx], 'g-', label='Demodulated')\n",
    "    axes[-1].plot(t[start_idx:end_idx], message[start_idx:end_idx], 'r--', label='Original Message')\n",
    "    axes[-1].set_title('Demodulated Signal vs Original Message')\n",
    "    axes[-1].set_xlabel('Time (s)')\n",
    "    axes[-1].set_ylabel('Amplitude')\n",
    "    axes[-1].legend()\n",
    "    axes[-1].grid(True)\n",
    "    \n",
    "    plt.tight_layout()\n",
    "    return fig"
   ]
  },
  {
   "cell_type": "code",
   "execution_count": 5,
   "id": "3a49b723",
   "metadata": {},
   "outputs": [
    {
     "data": {
      "application/vnd.jupyter.widget-view+json": {
       "model_id": "6811b0dab17a489fa2162739905d2161",
       "version_major": 2,
       "version_minor": 0
      },
      "text/plain": [
       "interactive(children=(FloatSlider(value=0.0, description='start_time', max=4.5), FloatSlider(value=0.5, descri…"
      ]
     },
     "metadata": {},
     "output_type": "display_data"
    },
    {
     "data": {
      "text/plain": [
       "<function __main__.interactive_time_plot(start_time=0.0, duration=0.5)>"
      ]
     },
     "execution_count": 5,
     "metadata": {},
     "output_type": "execute_result"
    }
   ],
   "source": [
    "def interactive_time_plot(start_time=0.0, duration=0.5):\n",
    "    fig = plot_time_domain(start_time, duration)\n",
    "    plt.show()\n",
    "\n",
    "interact(interactive_time_plot,\n",
    "         start_time=FloatSlider(min=0, max=4.5, step=0.1, value=0),\n",
    "         duration=FloatSlider(min=0.1, max=1.0, step=0.1, value=0.5))"
   ]
  },
  {
   "cell_type": "code",
   "execution_count": 6,
   "id": "34cdc921",
   "metadata": {},
   "outputs": [],
   "source": [
    "def plot_frequency_domain(start_time=0, duration=0.5):\n",
    "    \"\"\"Plot frequency domain signals for the specified time window.\"\"\"\n",
    "    start_idx = int(start_time * fs)\n",
    "    end_idx = int((start_time + duration) * fs)\n",
    "    \n",
    "    # Calculate FFT parameters\n",
    "    n_fft = 2**16  # Use a fixed, large FFT size for better frequency resolution\n",
    "    freqs = fftfreq(n_fft, 1/fs)\n",
    "    pos_freqs = freqs[:n_fft//2]\n",
    "    \n",
    "    # Create figure for spectra\n",
    "    total_plots = 4  # Message, Carrier, Modulated, Demodulated\n",
    "    fig, axes = plt.subplots(total_plots, 1, figsize=(12, 3*total_plots))\n",
    "    fig.subplots_adjust(hspace=0.4)\n",
    "    \n",
    "    # Calculate FFTs for message and demodulated (using original fs)\n",
    "    message_fft = np.abs(fft(message[start_idx:end_idx], n=n_fft))[:n_fft//2]\n",
    "    \n",
    "    # Generate modulated signal at original sampling rate for demodulation\n",
    "    m = modulation_indices[0]\n",
    "    modulated = (1 + m * message[start_idx:end_idx]) * carrier[start_idx:end_idx]\n",
    "    analytic_signal = hilbert(modulated)\n",
    "    demodulated = np.abs(analytic_signal)\n",
    "    demodulated_fft = np.abs(fft(demodulated, n=n_fft))[:n_fft//2]\n",
    "    \n",
    "    # For carrier and modulated spectra, use higher sampling rate\n",
    "    fs_high = 240000  # 240 kHz sampling rate for carrier visualization (2 × 120 kHz)\n",
    "    t_high = np.linspace(start_time, start_time + duration, int(duration * fs_high))\n",
    "    \n",
    "    # Generate carrier and modulated signals at higher sampling rate\n",
    "    carrier_high = np.sin(2 * np.pi * fc * t_high)\n",
    "    message_high = np.interp(t_high, np.linspace(start_time, start_time + duration, len(message[start_idx:end_idx])), message[start_idx:end_idx])\n",
    "    modulated_high = (1 + m * message_high) * carrier_high\n",
    "    \n",
    "    # Calculate FFTs for carrier and modulated (using higher fs)\n",
    "    n_fft_high = 2**16\n",
    "    freqs_high = fftfreq(n_fft_high, 1/fs_high)\n",
    "    pos_freqs_high = freqs_high[:n_fft_high//2]\n",
    "    \n",
    "    carrier_fft = np.abs(fft(carrier_high, n=n_fft_high))[:n_fft_high//2]\n",
    "    modulated_fft = np.abs(fft(modulated_high, n=n_fft_high))[:n_fft_high//2]\n",
    "    \n",
    "    # Scale all spectra relative to message spectrum maximum\n",
    "    max_magnitude = np.max(message_fft)\n",
    "    message_fft = message_fft / max_magnitude\n",
    "    carrier_fft = carrier_fft / max_magnitude\n",
    "    modulated_fft = modulated_fft / max_magnitude\n",
    "    demodulated_fft = demodulated_fft / max_magnitude\n",
    "    \n",
    "    # Plot message spectrum\n",
    "    axes[0].semilogx(pos_freqs, message_fft, label='Message Spectrum')\n",
    "    axes[0].set_title('Message Spectrum')\n",
    "    axes[0].set_xlabel('Frequency (Hz)')\n",
    "    axes[0].set_ylabel('Relative Magnitude')\n",
    "    axes[0].legend()\n",
    "    axes[0].grid(True)\n",
    "    axes[0].set_xlim(10, fs/2)  # Show from 10 Hz to Nyquist frequency\n",
    "    axes[0].set_ylim(0, 1.2)\n",
    "    \n",
    "    # Plot carrier spectrum\n",
    "    axes[1].plot(pos_freqs_high, carrier_fft, label='Carrier Spectrum')\n",
    "    axes[1].set_title(f'Carrier Spectrum ({fc/1000:.1f} kHz)')\n",
    "    axes[1].set_xlabel('Frequency (Hz)')\n",
    "    axes[1].set_ylabel('Relative Magnitude')\n",
    "    axes[1].legend()\n",
    "    axes[1].grid(True)\n",
    "    axes[1].set_xlim(fc-20000, fc+20000)  # Show ±20 kHz around carrier\n",
    "    axes[1].set_ylim(0, 1.2)\n",
    "    \n",
    "    # Plot modulated spectrum\n",
    "    axes[2].plot(pos_freqs_high, modulated_fft, label='Modulated Spectrum')\n",
    "    axes[2].set_title('Modulated Spectrum')\n",
    "    axes[2].set_xlabel('Frequency (Hz)')\n",
    "    axes[2].set_ylabel('Relative Magnitude')\n",
    "    axes[2].legend()\n",
    "    axes[2].grid(True)\n",
    "    axes[2].set_xlim(fc-20000, fc+20000)  # Show ±20 kHz around carrier\n",
    "    axes[2].set_ylim(0, 1.2)\n",
    "    \n",
    "    # Plot demodulated spectrum\n",
    "    axes[3].semilogx(pos_freqs, demodulated_fft, label='Demodulated Spectrum')\n",
    "    axes[3].set_title('Demodulated Spectrum')\n",
    "    axes[3].set_xlabel('Frequency (Hz)')\n",
    "    axes[3].set_ylabel('Relative Magnitude')\n",
    "    axes[3].legend()\n",
    "    axes[3].grid(True)\n",
    "    axes[3].set_xlim(10, fs/2)  # Show from 10 Hz to Nyquist frequency\n",
    "    axes[3].set_ylim(0, 1.2)\n",
    "    \n",
    "    plt.tight_layout()\n",
    "    return fig"
   ]
  },
  {
   "cell_type": "code",
   "execution_count": 7,
   "id": "401c0fdb",
   "metadata": {},
   "outputs": [
    {
     "data": {
      "application/vnd.jupyter.widget-view+json": {
       "model_id": "6f162a0e567b4ba28d3efc376e46b99d",
       "version_major": 2,
       "version_minor": 0
      },
      "text/plain": [
       "interactive(children=(FloatSlider(value=0.0, description='start_time', max=4.5), FloatSlider(value=0.5, descri…"
      ]
     },
     "metadata": {},
     "output_type": "display_data"
    },
    {
     "data": {
      "text/plain": [
       "<function __main__.interactive_freq_plot(start_time=0.0, duration=0.5)>"
      ]
     },
     "execution_count": 7,
     "metadata": {},
     "output_type": "execute_result"
    }
   ],
   "source": [
    "def interactive_freq_plot(start_time=0.0, duration=0.5):\n",
    "    fig = plot_frequency_domain(start_time, duration)\n",
    "    plt.show()\n",
    "\n",
    "interact(interactive_freq_plot,\n",
    "         start_time=FloatSlider(min=0, max=4.5, step=0.1, value=0),\n",
    "         duration=FloatSlider(min=0.1, max=1.0, step=0.1, value=0.5))"
   ]
  },
  {
   "cell_type": "code",
   "execution_count": null,
   "id": "4f967758",
   "metadata": {},
   "outputs": [
    {
     "name": "stdout",
     "output_type": "stream",
     "text": [
      "Playing original message...\n",
      "\n",
      "Playing AM signals with different modulation indices:\n",
      "   AM signal with m=1.0\n",
      "   AM signal with m=3.0\n"
     ]
    }
   ],
   "source": [
    "print(\"Playing original message...\")\n",
    "play_audio(message, fs)\n",
    "\n",
    "print(\"\\nPlaying AM signals with different modulation indices:\")\n",
    "for i, m in enumerate(modulation_indices):\n",
    "    print(f\"   AM signal with m={m:.1f}\")\n",
    "    play_audio(am_signals[i], fs)"
   ]
  }
 ],
 "metadata": {
  "kernelspec": {
   "display_name": "Python (rfenv)",
   "language": "python",
   "name": "rfenv"
  },
  "language_info": {
   "codemirror_mode": {
    "name": "ipython",
    "version": 3
   },
   "file_extension": ".py",
   "mimetype": "text/x-python",
   "name": "python",
   "nbconvert_exporter": "python",
   "pygments_lexer": "ipython3",
   "version": "3.12.4"
  }
 },
 "nbformat": 4,
 "nbformat_minor": 5
}
